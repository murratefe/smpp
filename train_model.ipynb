{
 "cells": [
  {
   "cell_type": "markdown",
   "metadata": {},
   "source": [
    "<h1> SMPP - STOCK MARKET PRICE PREDICTION</h1>\n",
    "<p>Maded by: Murat EFE<br/>\n",
    "<a href='https://www.linkedin.com/in/murratefe'>My Linkedin</a>\n",
    "</p>"
   ]
  },
  {
   "cell_type": "markdown",
   "metadata": {},
   "source": [
    "<h1 style='color:red;'>IMPORTANT NOTICE!</h1><br/>\n",
    "<p>This model is highly experimantal and too risky for use real world investment <b>do not use this model any real investment.<b/><br/>\n",
    "<b>We are not responsible for any outcomes that may arise from the use of this model for any real investment purposes.</b></p>\n"
   ]
  },
  {
   "cell_type": "code",
   "execution_count": null,
   "metadata": {},
   "outputs": [],
   "source": [
    "!pip install yfinance\n",
    "!pip install pandas\n",
    "!pip install pandas-ta\n",
    "!pip install numpy\n",
    "!pip install matplotlib\n",
    "!pip install scikit-learn\n",
    "!pip install shap\n",
    "!pip install cloudpickle"
   ]
  },
  {
   "cell_type": "markdown",
   "metadata": {},
   "source": [
    "Importing libraries"
   ]
  },
  {
   "cell_type": "code",
   "execution_count": null,
   "metadata": {},
   "outputs": [],
   "source": [
    "import yfinance as yf\n",
    "import pandas as pd\n",
    "import pandas_ta as ta\n",
    "import numpy as np\n",
    "from sklearn.base import BaseEstimator, TransformerMixin\n",
    "from sklearn.pipeline import Pipeline\n",
    "from sklearn.preprocessing import MinMaxScaler\n",
    "from sklearn.linear_model import Ridge\n",
    "from sklearn.model_selection import cross_val_score\n",
    "from sklearn.metrics import mean_absolute_error\n",
    "import shap\n",
    "import pickle\n",
    "import cloudpickle\n",
    "from datetime import datetime\n",
    "import os"
   ]
  },
  {
   "cell_type": "markdown",
   "metadata": {},
   "source": [
    "Let's Build a Data Pipeline\n"
   ]
  },
  {
   "cell_type": "code",
   "execution_count": null,
   "metadata": {},
   "outputs": [],
   "source": [
    "class aug_data(BaseEstimator,TransformerMixin):\n",
    "    def fit(self, X, y=None):\n",
    "        return self\n",
    "    def transform(self, X):\n",
    "        \"\"\"\n",
    "        You need at least 50+1 days of data to be able to add these indicators., meaning you need 50+1 days of data for the prediction you are going to make.\n",
    "        \"\"\"\n",
    "        X[\"Date\"] = pd.to_datetime(X[\"Date\"] ,format='%d/%m/%Y %H:%M:%S')\n",
    "    \n",
    "        X['Support'] = X['Low'].rolling(window=7).min()\n",
    "        X['Resistance'] = X['High'].rolling(window=7).max()\n",
    "        X[\"SMA7\"] = X[\"Close\"].rolling(window=7).mean()\n",
    "        X[\"SMA9\"] = X[\"Close\"].rolling(window=9).mean()\n",
    "        X[\"SMA12\"] = X[\"Close\"].rolling(window=12).mean()\n",
    "        X[\"SMA21\"] = X[\"Close\"].rolling(window=21).mean()\n",
    "        X[\"SMA24\"] = X[\"Close\"].rolling(window=24).mean()\n",
    "        X[\"SMA26\"] = X[\"Close\"].rolling(window=26).mean()\n",
    "        X[\"SMA50\"] = X[\"Close\"].rolling(window=50).mean()\n",
    "    \n",
    "        X[\"Daily Change\"] = X[\"Close\"].pct_change() * 100\n",
    "    \n",
    "        weights_9 = list(range(1,10))    \n",
    "        weights_12 = list(range(1,13))  \n",
    "    \n",
    "        X[\"WMA9\"] = X[\"Close\"].rolling(window=9).apply(lambda prices: sum(prices * weights_9) / sum(weights_9), raw=True)\n",
    "        X[\"WMA12\"] = X[\"Close\"].rolling(window=12).apply(lambda prices: sum(prices * weights_12) / sum(weights_12), raw=True)\n",
    "    \n",
    "        X[\"EMA7\"] = X[\"Close\"].ewm(span=7, adjust=True).mean()\n",
    "        X[\"EMA9\"] = X[\"Close\"].ewm(span=9, adjust=True).mean()\n",
    "        X[\"EMA12\"] = X[\"Close\"].ewm(span=12, adjust=True).mean()\n",
    "        X[\"EMA21\"] = X[\"Close\"].ewm(span=21, adjust=True).mean()\n",
    "        X[\"EMA26\"] = X[\"Close\"].ewm(span=26, adjust=True).mean()\n",
    "    \n",
    "        X[\"MACD\"] = X[\"EMA12\"] - X[\"EMA26\"]\n",
    "        X[\"MACD Signal\"] = X[\"MACD\"].ewm(span=9, adjust=True).mean()\n",
    "        X[\"RSI\"] = ta.rsi(X[\"Close\"], length=14)\n",
    "        bbands_data = ta.bbands(X[\"Close\"], length=20)\n",
    "        X[\"Bollinger Bands Upper\"] = bbands_data[\"BBU_20_2.0\"]\n",
    "        X[\"Bollinger Bands Lower\"] = bbands_data[\"BBL_20_2.0\"]\n",
    "        X[\"Bollinger Bands Middle\"] = bbands_data[\"BBM_20_2.0\"]\n",
    "        return X"
   ]
  },
  {
   "cell_type": "code",
   "execution_count": null,
   "metadata": {},
   "outputs": [],
   "source": [
    "class drop_unnecessary_col(BaseEstimator,TransformerMixin):\n",
    "    def fit(self,X,y=None):\n",
    "        return self\n",
    "    def transform(self,X):\n",
    "        return X.drop(columns=['Date'])"
   ]
  },
  {
   "cell_type": "code",
   "execution_count": null,
   "metadata": {},
   "outputs": [],
   "source": [
    "class set_label(BaseEstimator,TransformerMixin):\n",
    "    def fit(self,X,y=None):\n",
    "        return self\n",
    "    def transform(self,X):\n",
    "        X[\"Target Close\"] = X[\"Close\"].shift(-1) #The Target Close is the closing price of the stock on the following day, n+1 day.\n",
    "        return X"
   ]
  },
  {
   "cell_type": "code",
   "execution_count": null,
   "metadata": {},
   "outputs": [],
   "source": [
    "class drop_null(BaseEstimator,TransformerMixin):\n",
    "    def fit(self,X,y=None):\n",
    "        return self\n",
    "    def transform(self,X):\n",
    "        return X.dropna()"
   ]
  },
  {
   "cell_type": "code",
   "execution_count": null,
   "metadata": {},
   "outputs": [],
   "source": [
    "class set_dtypes(BaseEstimator,TransformerMixin):\n",
    "    def fit(self,X, y=None):\n",
    "        return self\n",
    "    def transform(self, X):\n",
    "        return X.astype(np.float32)"
   ]
  },
  {
   "cell_type": "code",
   "execution_count": null,
   "metadata": {},
   "outputs": [],
   "source": [
    "class scaleData(BaseEstimator,TransformerMixin):\n",
    "    def fit(self, X, y=None):\n",
    "        return self\n",
    "    def transform(self,X):\n",
    "        scaler = MinMaxScaler(feature_range=(0,1))\n",
    "        if 'Target Close' in X:\n",
    "            X_scaled = scaler.fit_transform(X.drop(columns='Target Close'))\n",
    "            X_scaled = pd.DataFrame(X_scaled, columns=X.drop(columns='Target Close').columns)\n",
    "            X_scaled['Target Close'] = X['Target Close']\n",
    "        else:\n",
    "            X_scaled = scaler.fit_transform(X)\n",
    "            X_scaled = pd.DataFrame(X_scaled, columns=X.columns)\n",
    "        return X_scaled"
   ]
  },
  {
   "cell_type": "code",
   "execution_count": null,
   "metadata": {},
   "outputs": [],
   "source": [
    "#Building a pipeline for training\n",
    "pipe = Pipeline([\n",
    "    ('aug', aug_data()),\n",
    "    ('drop_unnecessary', drop_unnecessary_col()),\n",
    "    ('set_label',set_label()),\n",
    "    ('set_dtype', set_dtypes()),\n",
    "    ('scaler', scaleData()),\n",
    "    ('dropper', drop_null()),\n",
    "])"
   ]
  },
  {
   "cell_type": "code",
   "execution_count": null,
   "metadata": {},
   "outputs": [],
   "source": [
    "#Building a pipeline for prediction\n",
    "pipe_for_pred = Pipeline([\n",
    "    ('aug', aug_data()),\n",
    "    ('drop_unnecessary', drop_unnecessary_col()),\n",
    "    ('set_dtype', set_dtypes()),\n",
    "    ('scaler', scaleData()),\n",
    "    ('dropper', drop_null()),\n",
    "    ])"
   ]
  },
  {
   "cell_type": "markdown",
   "metadata": {},
   "source": [
    "Let's Create a dataset for APPL stock"
   ]
  },
  {
   "cell_type": "code",
   "execution_count": null,
   "metadata": {},
   "outputs": [],
   "source": [
    "symbol = 'AAPL' #Please enter the ticker symbol of the stock you want to train on.\"\n",
    "end_date = '2024-05-30' #Please enter the last date you want the data to be retrieved. Only use the YYYY-MM-DD format."
   ]
  },
  {
   "cell_type": "code",
   "execution_count": null,
   "metadata": {},
   "outputs": [],
   "source": [
    "dataset = yf.download(symbol=symbol, end=end_date, period='max')\n",
    "dataset.reset_index(inplace=True)\n",
    "dataset = pipe.fit_transform(dataset)"
   ]
  },
  {
   "cell_type": "markdown",
   "metadata": {},
   "source": [
    "Let's split the data"
   ]
  },
  {
   "cell_type": "code",
   "execution_count": null,
   "metadata": {},
   "outputs": [],
   "source": [
    "test = dataset.iloc[-100:] #Last 100 data split for validation\n",
    "train = dataset.iloc[:-100] "
   ]
  },
  {
   "cell_type": "code",
   "execution_count": null,
   "metadata": {},
   "outputs": [],
   "source": [
    "#Train Data\n",
    "X = train.drop(columns='Target Close')\n",
    "y = train['Target Close']"
   ]
  },
  {
   "cell_type": "code",
   "execution_count": null,
   "metadata": {},
   "outputs": [],
   "source": [
    "#Test Data\n",
    "X_test = test.drop(columns='Target Close')\n",
    "y_test = test['Target Close']"
   ]
  },
  {
   "cell_type": "markdown",
   "metadata": {},
   "source": [
    "Building a model with hyperparameter search"
   ]
  },
  {
   "cell_type": "code",
   "execution_count": null,
   "metadata": {},
   "outputs": [],
   "source": [
    "alpha = []\n",
    "cv_score = []\n",
    "model_score = []\n",
    "mae_score = []\n",
    "preds = {}\n",
    "for a in np.arange(0.01,100.00,0.01):\n",
    "    model = Ridge(alpha=a, random_state=42)\n",
    "    model.fit(X,y)\n",
    "    score = model.score(X_test,y_test)\n",
    "    cv = cross_val_score(model, X_test,y_test, cv=5, scoring=\"neg_mean_squared_error\").mean()\n",
    "    model_score.append(score)\n",
    "    cv_score.append(cv)\n",
    "    alpha.append(a)\n",
    "    pred = model.predict(X_test)\n",
    "    preds[a] = pred\n",
    "    mae = mean_absolute_error(y_test, pred)\n",
    "    mae_score.append(mae)"
   ]
  },
  {
   "cell_type": "code",
   "execution_count": null,
   "metadata": {},
   "outputs": [],
   "source": [
    "print(f'The Best Alpha Number: {alpha[cv_score.index(max(cv_score))]}\\n cv score: {max(cv_score)}\\n model score: {model_score[cv_score.index(max(cv_score))]}\\n MAE: {mae_score[cv_score.index(max(cv_score))]}')"
   ]
  },
  {
   "cell_type": "markdown",
   "metadata": {},
   "source": [
    "Build a model with best hyperparameters"
   ]
  },
  {
   "cell_type": "code",
   "execution_count": null,
   "metadata": {},
   "outputs": [],
   "source": [
    "best_alpha = alpha[cv_score.index(max(cv_score))]\n",
    "best_model = Ridge(random_state=42, alpha=best_alpha)\n",
    "best_model.fit(X,y)\n",
    "print(model.score(X_test,y_test))\n",
    "print(cross_val_score(best_model, X_test,y_test, cv=5, scoring='neg_mean_squared_error').mean())"
   ]
  },
  {
   "cell_type": "markdown",
   "metadata": {},
   "source": [
    "Saving Our Model"
   ]
  },
  {
   "cell_type": "code",
   "execution_count": null,
   "metadata": {},
   "outputs": [],
   "source": [
    "now = datetime.now().strftime(\"%Y_%m_%d_%H_%M\")\n",
    "if not os.path.exists(f'models/{now}'):\n",
    "    os.makedirs(f'models/{now}')"
   ]
  },
  {
   "cell_type": "code",
   "execution_count": null,
   "metadata": {},
   "outputs": [],
   "source": [
    "pickle.dump(best_model, open(f'models/{now}/model.pkl','wb'))\n",
    "cloudpickle.dump(pipe, open(f'models/{now}/pipeline_for_training.pkl','wb'))\n",
    "cloudpickle.dump(pipe_for_pred, open(f'models/{now}/pipeline_for_predict.pkl','wb'))"
   ]
  }
 ],
 "metadata": {
  "kernelspec": {
   "display_name": "ai",
   "language": "python",
   "name": "python3"
  },
  "language_info": {
   "codemirror_mode": {
    "name": "ipython",
    "version": 3
   },
   "file_extension": ".py",
   "mimetype": "text/x-python",
   "name": "python",
   "nbconvert_exporter": "python",
   "pygments_lexer": "ipython3",
   "version": "3.10.11"
  }
 },
 "nbformat": 4,
 "nbformat_minor": 2
}
